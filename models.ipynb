{
 "cells": [
  {
   "cell_type": "code",
   "execution_count": null,
   "metadata": {},
   "outputs": [],
   "source": [
    "import numpy as np\n",
    "import sys\n",
    "from astropy.io import fits\n",
    "import matplotlib.pyplot as plt\n",
    "import sklearn as skl\n",
    "import pandas as pd\n",
    "import glob\n",
    "import gzip\n",
    "import os\n",
    "from scipy.interpolate import interp1d\n",
    "import numpy as np\n",
    "from scipy.interpolate import interp1d\n",
    "from scipy.signal import fftconvolve\n",
    "from PyAstronomy.pyasl import rotBroad\n",
    "import numpy as np\n",
    "from math import sin, pi\n",
    "from scipy.special import erf                               # Error function\n",
    "from scipy.signal import fftconvolve \n",
    "from lmfit import Parameters, minimize"
   ]
  },
  {
   "cell_type": "markdown",
   "metadata": {},
   "source": [
    "### store tlusty models"
   ]
  },
  {
   "cell_type": "code",
   "execution_count": null,
   "metadata": {},
   "outputs": [],
   "source": [
    "model_files = glob.glob('BCvispec_v10/*')\n",
    "vis_7_files = {}\n",
    "vis_17_files = {}\n",
    "\n",
    "for file_name in model_files:\n",
    "    name_without_extension = file_name.split('/')[-1].split('.')[0]  # Extracting the file name without extension\n",
    "    \n",
    "    if 'CN' not in name_without_extension:\n",
    "        continue\n",
    "    if 'vis.7' in file_name:\n",
    "        vis_7_files[name_without_extension] = file_name\n",
    "    elif 'vis.17' in file_name:\n",
    "        vis_17_files[name_without_extension] = file_name\n",
    "\n",
    "vis_7_files_list = list(vis_7_files.values())\n",
    "vis_17_files_sorted = {key: vis_17_files[key] for key in vis_7_files.keys()}\n",
    "vis_17_files_list = list(vis_17_files_sorted.values())"
   ]
  },
  {
   "cell_type": "code",
   "execution_count": null,
   "metadata": {},
   "outputs": [],
   "source": [
    "def read_data(file_path):\n",
    "    with gzip.open(file_path, 'rt') as file:\n",
    "        df = pd.read_csv(file, delim_whitespace=True, names=['wave', 'flux'])\n",
    "    return df\n",
    "\n",
    "def normalize_flux(df_17, df_7):\n",
    "    normalized_flux = df_7['flux'] / df_17['flux']\n",
    "    return normalized_flux\n",
    "\n",
    "def interpolate_flux(df_17, df_7):\n",
    "    interp_func = interp1d(df_17['wave'], df_17['flux'], kind='linear', fill_value='extrapolate')\n",
    "    interpolated_flux = interp_func(df_7['wave'])\n",
    "    return interpolated_flux\n",
    "\n",
    "input_directory = \"BCvispec_v10/\"\n",
    "output_directory = \"normalized_data/\"\n",
    "os.makedirs(output_directory, exist_ok=True)\n",
    "\n",
    "for file_17, file_7 in zip(vis_17_files_list, vis_7_files_list):\n",
    "    df_17 = read_data(file_17)\n",
    "    df_7 = read_data(file_7)\n",
    "    \n",
    "    #debug stuff\n",
    "    #print(\"Columns of df_7:\", df_7.columns)\n",
    "    #print(\"Columns of interpolated_df_17:\", interpolated_df_17.columns)\n",
    "\n",
    "    interpolated_flux = interpolate_flux(df_17, df_7)\n",
    "    interpolated_df_17 = pd.DataFrame({'wave': df_7['wave'], 'flux': interpolated_flux})\n",
    "    normalized_flux = normalize_flux(interpolated_df_17, df_7)\n",
    "    normalized_df = pd.DataFrame({'wave': df_7['wave'], 'normalized_flux': normalized_flux})\n",
    "    file_name_without_extension = os.path.splitext(os.path.basename(file_17))[0]\n",
    "    output_file_path = os.path.join(output_directory, f\"{file_name_without_extension}_normalized.csv\")\n",
    "    normalized_df.to_csv(output_file_path, index=False)"
   ]
  }
 ],
 "metadata": {
  "kernelspec": {
   "display_name": "stats",
   "language": "python",
   "name": "python3"
  },
  "language_info": {
   "name": "python",
   "version": "3.11.7"
  }
 },
 "nbformat": 4,
 "nbformat_minor": 2
}
