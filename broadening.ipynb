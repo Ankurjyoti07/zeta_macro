{
 "cells": [
  {
   "cell_type": "code",
   "execution_count": 2,
   "metadata": {},
   "outputs": [
    {
     "name": "stderr",
     "output_type": "stream",
     "text": [
      "WARNING (pytensor.configdefaults): g++ not detected!  PyTensor will be unable to compile C-implementations and will default to Python. Performance may be severely degraded. To remove this warning, set PyTensor flags cxx to an empty string.\n"
     ]
    }
   ],
   "source": [
    "import numpy as np\n",
    "import sys\n",
    "from astropy.io import fits\n",
    "import matplotlib.pyplot as plt\n",
    "import sklearn as skl\n",
    "import pandas as pd\n",
    "import glob\n",
    "import gzip\n",
    "import os\n",
    "from scipy.interpolate import interp1d\n",
    "from scipy.signal import fftconvolve\n",
    "from PyAstronomy.pyasl import rotBroad\n",
    "from math import sin, pi\n",
    "from scipy.special import erf                               # Error function\n",
    "from scipy.signal import fftconvolve \n",
    "from lmfit import Parameters, minimize\n"
   ]
  },
  {
   "cell_type": "markdown",
   "metadata": {},
   "source": [
    "### testing broadening kernel"
   ]
  },
  {
   "cell_type": "code",
   "execution_count": 3,
   "metadata": {},
   "outputs": [],
   "source": [
    "def read_HERMES(infile):\n",
    "    #print(\"%s: Input file is a HERMES file.\" % infile)\n",
    "    header = fits.getheader(infile)\n",
    "\n",
    "    #bjd = header['MJD-OBS']\n",
    "    # for files with standard wavelegth array\n",
    "    if ((header['CTYPE1'] == 'WAVELENGTH') or (header['CTYPE1'] == 'AWAV')):\n",
    "        flux = fits.getdata(infile, byteorder='little')\n",
    "        crval = header['CRVAL1']\n",
    "        cdelt = header['CDELT1']\n",
    "        naxis1 = header['NAXIS1']\n",
    "        wave = crval + np.arange(0, naxis1) * cdelt\n",
    "\n",
    "    # for files that are given in logarithmic wl array\n",
    "    if (header['CTYPE1'] == 'log(wavelength)'):\n",
    "        flux = fits.getdata(infile, byteorder='little')\n",
    "        crval = header['CRVAL1']\n",
    "        cdelt = header['CDELT1']\n",
    "        naxis1 = header['NAXIS1']\n",
    "        wave = np.exp(crval + np.arange(0, naxis1)*cdelt)\n",
    "    else:\n",
    "        print(\"Could not read in HERMES fits file - unknown file type.\")\n",
    "        sys.exit()\n",
    "    return wave, flux"
   ]
  },
  {
   "cell_type": "code",
   "execution_count": 10,
   "metadata": {},
   "outputs": [],
   "source": [
    "wave, flux = read_HERMES('00943975_HRF_OBJ_ext_CosmicsRemoved_log_merged_cf_norm.fits')\n"
   ]
  },
  {
   "cell_type": "code",
   "execution_count": 4,
   "metadata": {},
   "outputs": [],
   "source": [
    "import warnings\n",
    "class Model_broad:\n",
    "    def __init__(self, wave, flux):\n",
    "        self.x = wave\n",
    "        self.y = flux\n",
    "#model_broad = Model_broad(wave, flux)\n",
    "\n",
    "\n",
    "def Broaden(model, vsini, epsilon=0.5, linear=False, findcont=False):\n",
    "    # Remove NaN values from the flux array and corresponding wavelength values\n",
    "    non_nan_idx = ~np.isnan(model.y)\n",
    "    wave = model.x[non_nan_idx]\n",
    "    flux = model.y[non_nan_idx]\n",
    "    \n",
    "    if not linear:\n",
    "        x = np.logspace(np.log10(wave[0]), np.log10(wave[-1]), len(wave))\n",
    "    else:\n",
    "        x = wave\n",
    "        \n",
    "    if findcont:\n",
    "        # Find the continuum\n",
    "        model.cont = np.ones_like(flux)  # Placeholder for continuum finding\n",
    "        \n",
    "    # Make the broadening kernel\n",
    "    dx = np.log(x[1] / x[0])\n",
    "    c = 299792458  # Speed of light in m/s\n",
    "    lim = vsini / c\n",
    "    if lim < dx:\n",
    "        warnings.warn(\"vsini too small ({}). Not broadening!\".format(vsini))\n",
    "        return Model_broad(wave.copy(), flux.copy())  # Create a copy of the Model object\n",
    "    \n",
    "    d_logx = np.arange(0.0, lim, dx)\n",
    "    d_logx = np.concatenate((-d_logx[::-1][:-1], d_logx))\n",
    "    alpha = 1.0 - (d_logx / lim) ** 2\n",
    "    B = (1.0 - epsilon) * np.sqrt(alpha) + epsilon * np.pi * alpha / 4.0  # Broadening kernel\n",
    "    B /= np.sum(B)  # Normalize\n",
    "\n",
    "    # Do the convolution\n",
    "    broadened = Model_broad(wave.copy(), flux.copy())  # Create a copy of the Model object\n",
    "    broadened.y = fftconvolve(flux, B, mode='same')\n",
    "    \n",
    "    return broadened"
   ]
  },
  {
   "cell_type": "code",
   "execution_count": 12,
   "metadata": {},
   "outputs": [],
   "source": [
    "model_broad = Model_broad(wave, flux)\n",
    "broadened_model1= Broaden(model_broad, 150000) #vsini in m/s\n",
    "wv = broadened_model1.x\n",
    "fl = broadened_model1.y"
   ]
  },
  {
   "cell_type": "markdown",
   "metadata": {},
   "source": [
    "### fitting gaussians with lmfit"
   ]
  },
  {
   "cell_type": "code",
   "execution_count": null,
   "metadata": {},
   "outputs": [],
   "source": [
    "#reading from linelist to fit\n",
    "def read_line_list(filename):\n",
    "    line_centers = []\n",
    "    line_widths = []\n",
    "\n",
    "    with open(filename, 'r') as file:\n",
    "        for line in file:\n",
    "            line = line.strip()  #removing whitespaces\n",
    "            if not line:\n",
    "                continue  #skipping empty lines\n",
    "            parts = line.split()\n",
    "            center = float(parts[0])\n",
    "            if len(parts) > 1:\n",
    "                width = float(parts[1])\n",
    "            else:\n",
    "                width = 10.0  #default\n",
    "            line_centers.append(center)\n",
    "            line_widths.append(width)\n",
    "\n",
    "    return line_centers, line_widths\n",
    "\n",
    "#working gaussian\n",
    "def gauss(x,a,center,sigma, gamma):\n",
    "  return a*np.exp(-(x-center)**2/(2*sigma**2)) + gamma\n",
    "\n",
    "#works for emission lines, for absorption line this is inverted => use neg ampl and a gamma shift\n",
    "#def gauss(wave, a, center, sigma):\n",
    "#    return a * np.exp(-0.5 * ((wave - center) / sigma) ** 2)\n",
    "\n",
    "\n",
    "def generate_data(wave, flux, line_centers, line_widths, wavelength_slices):\n",
    "    interp_func = interp1d(wave, flux, kind='linear')\n",
    "    wave_slices = []\n",
    "    flux_slices = []\n",
    "    for center, width in zip(line_centers, line_widths):\n",
    "        new_wave = np.linspace(center - width, center + width, wavelength_slices)\n",
    "        new_flux = interp_func(new_wave)\n",
    "        wave_slices.append(new_wave)\n",
    "        flux_slices.append(new_flux)\n",
    "    return np.concatenate(wave_slices), np.concatenate(flux_slices)\n",
    "\n",
    "def generate_model(params, line_centers, line_widths, wavelength_slices):\n",
    "    model_slices = []\n",
    "    for i, (center, width) in enumerate(zip(line_centers, line_widths)):\n",
    "        wave = np.linspace(center - width, center + width, wavelength_slices)\n",
    "        model = gauss(wave, params[f'a{i}'], params[f'center{i}'], params[f'sigma{i}'], params[f'gamma{i}'])\n",
    "        model_slices.append(model)\n",
    "    return np.concatenate(model_slices)\n",
    "\n",
    "def objective(params, wave, flux, line_centers, line_widths, wavelength_slices):\n",
    "    wave_data, flux_data = generate_data(wave, flux, line_centers, line_widths, wavelength_slices)\n",
    "    model = generate_model(params, line_centers, line_widths, wavelength_slices)\n",
    "    return flux_data - model\n",
    "\n",
    "def fit_lines(wave, flux, line_centers, line_widths, wavelength_slices=1000):\n",
    "    params = Parameters()\n",
    "    wave_data, flux_data = generate_data(wave, flux, line_centers, line_widths, wavelength_slices)\n",
    "    for i, (center, width) in enumerate(zip(line_centers, line_widths)):\n",
    "        params.add(f'a{i}', value=-1) #ampl of the line\n",
    "        params.add(f'center{i}', value=center) #line centre, read the first guess from linelist\n",
    "        params.add(f'sigma{i}', value=width) # sigma of the line, either read from linelist or a default(1) should do\n",
    "        params.add(f'gamma{i}', value=1) #initial guess for shifting line to norm level\n",
    "\n",
    "\n",
    "    result = minimize(objective, params=params, args=(wave_data, flux_data, line_centers, line_widths, wavelength_slices))\n",
    "    return result"
   ]
  },
  {
   "cell_type": "code",
   "execution_count": null,
   "metadata": {},
   "outputs": [],
   "source": [
    "wave, flux = read_HERMES('00943975_HRF_OBJ_ext_CosmicsRemoved_log_merged_cf_norm.fits')\n",
    "line_centers, line_widths = read_line_list('line_list.txt')\n",
    "result = fit_lines(wave, flux, line_centers, line_widths)\n",
    "result"
   ]
  },
  {
   "cell_type": "markdown",
   "metadata": {},
   "source": [
    "### fitting with rot broadened gaussian"
   ]
  },
  {
   "cell_type": "code",
   "execution_count": 4,
   "metadata": {},
   "outputs": [],
   "source": [
    "def read_line_list(filename):\n",
    "    line_centers = []\n",
    "    line_widths = []\n",
    "\n",
    "    with open(filename, 'r') as file:\n",
    "        for line in file:\n",
    "            line = line.strip()  #removing whitespaces\n",
    "            if not line:\n",
    "                continue  #skipping empty lines\n",
    "            parts = line.split()\n",
    "            center = float(parts[0])\n",
    "            if len(parts) > 1:\n",
    "                width = float(parts[1])\n",
    "            else:\n",
    "                width = 10.0  #default\n",
    "            line_centers.append(center)\n",
    "            line_widths.append(width)\n",
    "\n",
    "    return line_centers, line_widths"
   ]
  },
  {
   "cell_type": "code",
   "execution_count": 5,
   "metadata": {},
   "outputs": [],
   "source": [
    "def gauss(x,a,center,R, gamma):\n",
    "  sigma = sigma = 4471/ (2.0 * R * np.sqrt(2.0 * np.log(2))) \n",
    "  return a*np.exp(-(x-center)**2/(2*sigma**2)) + gamma\n",
    "\n",
    "def generate_data(wave, flux, line_centers, line_widths, wavelength_slices):\n",
    "    interp_func = interp1d(wave, flux, kind='linear')\n",
    "    wave_slices = []\n",
    "    flux_slices = []\n",
    "    for center, width in zip(line_centers, line_widths):\n",
    "        new_wave = np.linspace(center - width, center + width, wavelength_slices)\n",
    "        new_flux = interp_func(new_wave)\n",
    "        wave_slices.append(new_wave)\n",
    "        flux_slices.append(new_flux)\n",
    "    return np.concatenate(wave_slices), np.concatenate(flux_slices)"
   ]
  },
  {
   "cell_type": "code",
   "execution_count": 6,
   "metadata": {},
   "outputs": [],
   "source": [
    "import warnings\n",
    "class Model_broad:\n",
    "    def __init__(self, wave, flux):\n",
    "        self.x = wave\n",
    "        self.y = flux\n",
    "\n",
    "\n",
    "def Broaden(model, vsini, epsilon=0.5, linear=False, findcont=False):\n",
    "    # Remove NaN values from the flux array and corresponding wavelength values\n",
    "    non_nan_idx = ~np.isnan(model.y)\n",
    "    wvl = model.x[non_nan_idx]\n",
    "    flx = model.y[non_nan_idx]\n",
    "    \n",
    "    dwl = wvl[1] - wvl[0]\n",
    "    binnu = int(np.floor((((vsini/10)/ 299792.458) * max(wvl)) / dwl)) + 1 #adding extra bins for error handling\n",
    "    #validIndices = np.arange(len(flx)) + binnu => this was used in rotbroad as a user cond ==> this is always on here\n",
    "    front_fl = np.ones(binnu) * flx[0]\n",
    "    end_fl = np.ones(binnu) * flx[-1]\n",
    "    flux = np.concatenate((front_fl, flx, end_fl))\n",
    "\n",
    "    front_wv = (wvl[0] - (np.arange(binnu) + 1) * dwl)[::-1]\n",
    "    end_wv = wvl[-1] + (np.arange(binnu) + 1) * dwl\n",
    "    wave = np.concatenate((front_wv, wvl, end_wv))\n",
    "\n",
    "    if not linear:\n",
    "        x = np.logspace(np.log10(wave[0]), np.log10(wave[-1]), len(wave))\n",
    "    else:\n",
    "        x = wave\n",
    "        \n",
    "    if findcont:\n",
    "        # Find the continuum\n",
    "        model.cont = np.ones_like(flux)  # Placeholder for continuum finding\n",
    "        \n",
    "    # Make the broadening kernel\n",
    "    dx = np.log(x[1] / x[0])\n",
    "    c = 299792458  # Speed of light in m/s\n",
    "    lim = vsini / c\n",
    "    if lim < dx:\n",
    "        warnings.warn(\"vsini too small ({}). Not broadening!\".format(vsini))\n",
    "        return Model_broad(wave.copy(), flux.copy())  # Create a copy of the Model object\n",
    "    \n",
    "    d_logx = np.arange(0.0, lim, dx)\n",
    "    d_logx = np.concatenate((-d_logx[::-1][:-1], d_logx))\n",
    "    alpha = 1.0 - (d_logx / lim) ** 2\n",
    "    B = (1.0 - epsilon) * np.sqrt(alpha) + epsilon * np.pi * alpha / 4.0  # Broadening kernel\n",
    "    B /= np.sum(B)  # Normalize\n",
    "\n",
    "    # Do the convolution\n",
    "    broadened = Model_broad(wave.copy(), flux.copy())  # Create a copy of the Model object\n",
    "    broadened.y = fftconvolve(flux, B, mode='same')\n",
    "    \n",
    "    return broadened\n",
    "\n",
    "\n",
    "def generate_broaden(params, line_centers, line_widths, wavelength_slices):\n",
    "    model_slices = []\n",
    "    for i, (center, width) in enumerate(zip(line_centers, line_widths)):\n",
    "        wave = np.linspace(center - width, center + width, wavelength_slices)\n",
    "        instrum = gauss(wave, params[f'a{i}'], params[f'center{i}'], 20000, params[f'gamma{i}']) #resolution is still hardcoded R=20000 change accordingly\n",
    "        broad = Broaden(Model_broad(wave, instrum), params['vsini'])\n",
    "\n",
    "        interp = interp1d(broad.x, broad.y, kind= 'linear')\n",
    "        broad_flux = interp(wave)\n",
    "        model_slices.append(broad_flux)\n",
    "        \n",
    "    return  np.concatenate(model_slices)\n",
    "\n"
   ]
  },
  {
   "cell_type": "code",
   "execution_count": 7,
   "metadata": {},
   "outputs": [],
   "source": [
    "def objective(params, wave, flux, line_centers, line_widths, wavelength_slices):\n",
    "    wave_data, flux_data = generate_data(wave, flux, line_centers, line_widths, wavelength_slices)\n",
    "    model = generate_broaden(params, line_centers, line_widths, wavelength_slices)\n",
    "    return flux_data - model\n",
    "\n",
    "def fit_lines(wave, flux, line_centers, line_widths, wavelength_slices):\n",
    "    params = Parameters()\n",
    "    wave_data, flux_data = generate_data(wave, flux, line_centers, line_widths, wavelength_slices)\n",
    "    for i, (center, width) in enumerate(zip(line_centers, line_widths)):\n",
    "        params.add(f'a{i}', value=-1)   # Initial guess for amplitude\n",
    "        params.add(f'center{i}', value=center)  # Initial guess for center\n",
    "        params.add(f'gamma{i}', value=1)\n",
    "    params.add('vsini', value=150000, min = 0, max = 500000)\n",
    "\n",
    "    result = minimize(objective, params=params, args=(wave_data, flux_data, line_centers, line_widths, wavelength_slices))\n",
    "    return result"
   ]
  },
  {
   "cell_type": "code",
   "execution_count": 8,
   "metadata": {},
   "outputs": [
    {
     "data": {
      "text/html": [
       "<h2>Fit Result</h2> <table class=\"jp-toc-ignore\"><caption class=\"jp-toc-ignore\">Fit Statistics</caption><tr><td style='text-align:left'>fitting method</td><td style='text-align:right'>leastsq</td></tr><tr><td style='text-align:left'># function evals</td><td style='text-align:right'>218</td></tr><tr><td style='text-align:left'># data points</td><td style='text-align:right'>4000</td></tr><tr><td style='text-align:left'># variables</td><td style='text-align:right'>13</td></tr><tr><td style='text-align:left'>chi-square</td><td style='text-align:right'> 0.27871456</td></tr><tr><td style='text-align:left'>reduced chi-square</td><td style='text-align:right'> 6.9906e-05</td></tr><tr><td style='text-align:left'>Akaike info crit.</td><td style='text-align:right'>-38260.4670</td></tr><tr><td style='text-align:left'>Bayesian info crit.</td><td style='text-align:right'>-38178.6444</td></tr></table><table class=\"jp-toc-ignore\"><caption>Parameters</caption><tr><th style='text-align:left'>name</th><th style='text-align:left'>value</th><th style='text-align:left'>standard error</th><th style='text-align:left'>relative error</th><th style='text-align:left'>initial value</th><th style='text-align:left'>min</th><th style='text-align:left'>max</th><th style='text-align:right'>vary</th></tr><tr><td style='text-align:left'>a0</td><td style='text-align:left'>-3.17360574</td><td style='text-align:left'> 0.02030722</td><td style='text-align:left'>(0.64%)</td><td style='text-align:left'>-1</td><td style='text-align:left'>       -inf</td><td style='text-align:left'>        inf</td><td style='text-align:right'>True</td></tr><tr><td style='text-align:left'>center0</td><td style='text-align:left'> 4471.23736</td><td style='text-align:left'> 0.01359387</td><td style='text-align:left'>(0.00%)</td><td style='text-align:left'>4471.0</td><td style='text-align:left'>       -inf</td><td style='text-align:left'>        inf</td><td style='text-align:right'>True</td></tr><tr><td style='text-align:left'>gamma0</td><td style='text-align:left'> 0.98876706</td><td style='text-align:left'> 3.3221e-04</td><td style='text-align:left'>(0.03%)</td><td style='text-align:left'>1</td><td style='text-align:left'>       -inf</td><td style='text-align:left'>        inf</td><td style='text-align:right'>True</td></tr><tr><td style='text-align:left'>a1</td><td style='text-align:left'>-1.64249456</td><td style='text-align:left'> 0.02405869</td><td style='text-align:left'>(1.46%)</td><td style='text-align:left'>-1</td><td style='text-align:left'>       -inf</td><td style='text-align:left'>        inf</td><td style='text-align:right'>True</td></tr><tr><td style='text-align:left'>center1</td><td style='text-align:left'> 5875.66818</td><td style='text-align:left'> 0.03546181</td><td style='text-align:left'>(0.00%)</td><td style='text-align:left'>5875.0</td><td style='text-align:left'>       -inf</td><td style='text-align:left'>        inf</td><td style='text-align:right'>True</td></tr><tr><td style='text-align:left'>gamma1</td><td style='text-align:left'> 1.01797269</td><td style='text-align:left'> 3.8946e-04</td><td style='text-align:left'>(0.04%)</td><td style='text-align:left'>1</td><td style='text-align:left'>       -inf</td><td style='text-align:left'>        inf</td><td style='text-align:right'>True</td></tr><tr><td style='text-align:left'>a2</td><td style='text-align:left'>-1.46932752</td><td style='text-align:left'> 0.02786318</td><td style='text-align:left'>(1.90%)</td><td style='text-align:left'>-1</td><td style='text-align:left'>       -inf</td><td style='text-align:left'>        inf</td><td style='text-align:right'>True</td></tr><tr><td style='text-align:left'>center2</td><td style='text-align:left'> 6678.13422</td><td style='text-align:left'> 0.04770746</td><td style='text-align:left'>(0.00%)</td><td style='text-align:left'>6678.0</td><td style='text-align:left'>       -inf</td><td style='text-align:left'>        inf</td><td style='text-align:right'>True</td></tr><tr><td style='text-align:left'>gamma2</td><td style='text-align:left'> 1.01334688</td><td style='text-align:left'> 4.2378e-04</td><td style='text-align:left'>(0.04%)</td><td style='text-align:left'>1</td><td style='text-align:left'>       -inf</td><td style='text-align:left'>        inf</td><td style='text-align:right'>True</td></tr><tr><td style='text-align:left'>a3</td><td style='text-align:left'>-1.84057818</td><td style='text-align:left'> 0.01846096</td><td style='text-align:left'>(1.00%)</td><td style='text-align:left'>-1</td><td style='text-align:left'>       -inf</td><td style='text-align:left'>        inf</td><td style='text-align:right'>True</td></tr><tr><td style='text-align:left'>center3</td><td style='text-align:left'> 4388.07259</td><td style='text-align:left'> 0.02081772</td><td style='text-align:left'>(0.00%)</td><td style='text-align:left'>4387.0</td><td style='text-align:left'>       -inf</td><td style='text-align:left'>        inf</td><td style='text-align:right'>True</td></tr><tr><td style='text-align:left'>gamma3</td><td style='text-align:left'> 1.00883791</td><td style='text-align:left'> 3.4359e-04</td><td style='text-align:left'>(0.03%)</td><td style='text-align:left'>1</td><td style='text-align:left'>       -inf</td><td style='text-align:left'>        inf</td><td style='text-align:right'>True</td></tr><tr><td style='text-align:left'>vsini</td><td style='text-align:left'> 304209.213</td><td style='text-align:left'> 860.248729</td><td style='text-align:left'>(0.28%)</td><td style='text-align:left'>150000</td><td style='text-align:left'> 0.00000000</td><td style='text-align:left'> 500000.000</td><td style='text-align:right'>True</td></tr></table><table class=\"jp-toc-ignore\"><caption>Correlations (unreported values are < 0.100)</caption><tr><th style='text-align:left'>Parameter1</th><th style='text-align:left'>Parameter 2</th><th style='text-align:right'>Correlation</th></tr><tr><td style='text-align:left'>a2</td><td style='text-align:left'>gamma2</td><td style='text-align:right'>-0.7815</td></tr><tr><td style='text-align:left'>a1</td><td style='text-align:left'>gamma1</td><td style='text-align:right'>-0.7343</td></tr><tr><td style='text-align:left'>a3</td><td style='text-align:left'>gamma3</td><td style='text-align:right'>-0.6386</td></tr><tr><td style='text-align:left'>a0</td><td style='text-align:left'>gamma0</td><td style='text-align:right'>-0.6055</td></tr><tr><td style='text-align:left'>a0</td><td style='text-align:left'>vsini</td><td style='text-align:right'>-0.3538</td></tr><tr><td style='text-align:left'>a3</td><td style='text-align:left'>vsini</td><td style='text-align:right'>-0.2212</td></tr><tr><td style='text-align:left'>gamma0</td><td style='text-align:left'>vsini</td><td style='text-align:right'>+0.2142</td></tr><tr><td style='text-align:left'>a1</td><td style='text-align:left'>vsini</td><td style='text-align:right'>-0.1922</td></tr><tr><td style='text-align:left'>a2</td><td style='text-align:left'>vsini</td><td style='text-align:right'>-0.1885</td></tr><tr><td style='text-align:left'>gamma2</td><td style='text-align:left'>vsini</td><td style='text-align:right'>+0.1473</td></tr><tr><td style='text-align:left'>gamma3</td><td style='text-align:left'>vsini</td><td style='text-align:right'>+0.1413</td></tr><tr><td style='text-align:left'>gamma1</td><td style='text-align:left'>vsini</td><td style='text-align:right'>+0.1411</td></tr></table>"
      ],
      "text/plain": [
       "<lmfit.minimizer.MinimizerResult at 0x7a5552f10390>"
      ]
     },
     "execution_count": 8,
     "metadata": {},
     "output_type": "execute_result"
    }
   ],
   "source": [
    "wave, flux = read_HERMES('00943975_HRF_OBJ_ext_CosmicsRemoved_log_merged_cf_norm.fits')\n",
    "line_centers, line_widths = read_line_list('line_list.txt')\n",
    "result = fit_lines(wave, flux, line_centers, line_widths, wavelength_slices=1000)\n",
    "result"
   ]
  },
  {
   "cell_type": "code",
   "execution_count": null,
   "metadata": {},
   "outputs": [],
   "source": []
  }
 ],
 "metadata": {
  "kernelspec": {
   "display_name": "stats",
   "language": "python",
   "name": "python3"
  },
  "language_info": {
   "codemirror_mode": {
    "name": "ipython",
    "version": 3
   },
   "file_extension": ".py",
   "mimetype": "text/x-python",
   "name": "python",
   "nbconvert_exporter": "python",
   "pygments_lexer": "ipython3",
   "version": "3.11.7"
  }
 },
 "nbformat": 4,
 "nbformat_minor": 2
}
